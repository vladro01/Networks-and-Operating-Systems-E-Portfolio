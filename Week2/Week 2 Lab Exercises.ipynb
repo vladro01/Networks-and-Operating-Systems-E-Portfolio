{
 "cells": [
  {
   "cell_type": "markdown",
   "metadata": {},
   "source": [
    "# Week 2 Networks and Operating Systems\n",
    "## Python Fundementals\n",
    "This module focuses on using Python for developing networking applications. A strong foundation in Python is essential before tackling advanced topics.\n",
    "\n",
    "Some information about python:  \n",
    "Python is a versatile, general-purpose programming language known for its readability and extensive libraries.  \n",
    "\n",
    "Python is:   \n",
    "Interpreted (it is executed at runtime without prior compilation making it easy to understand for begginers in programming)  \n",
    "Interactive ( it allows direct interaction with the interpreter)  \n",
    "Object-Oriented (supports most if not all object oriented concepts using objects)  \n",
    "Beginner-Friendly (widely used in various domains, including AI and networking and more)  \n",
    "\n",
    "\n",
    "In the session we were asked to complete a series of begginer level exercises, which will be showcased below in the document"
   ]
  },
  {
   "cell_type": "code",
   "execution_count": 1,
   "metadata": {},
   "outputs": [
    {
     "name": "stdout",
     "output_type": "stream",
     "text": [
      "Hello Word\n"
     ]
    }
   ],
   "source": [
    "print('Hello Word')"
   ]
  },
  {
   "cell_type": "markdown",
   "metadata": {},
   "source": [
    "## Exercise 1: Basic math operations  \n",
    "Tasks:  \n",
    "Write Python scripts to perform the following:  \n",
    "-Add two numbers and print the result  \n",
    "-Subtract two numbers and print the result  \n",
    "-Multiply two numbers and print the result  \n",
    "-Divide two numbers and print the result  \n",
    "-Compute the remainder of two numbers  \n",
    "-Calculate the power of a number   \n",
    "\n"
   ]
  },
  {
   "cell_type": "code",
   "execution_count": 1,
   "metadata": {},
   "outputs": [
    {
     "name": "stdout",
     "output_type": "stream",
     "text": [
      "Addition: 15\n",
      "Subtraction: 5\n",
      "Multiplication: 84\n",
      "Division: 1.625\n",
      "Remainder: 5\n",
      "Power: 125\n"
     ]
    }
   ],
   "source": [
    "# Exercise 1: Basic Math Operations\n",
    "# Addition\n",
    "def add(a, b):\n",
    "    return a + b\n",
    "print(\"Addition:\", add(10, 5)) \n",
    "\n",
    "# Subtraction\n",
    "def subtract(a, b):\n",
    "    return a - b\n",
    "print(\"Subtraction:\", subtract(11, 6))\n",
    "\n",
    "# Multiplication\n",
    "def multiply(a, b):\n",
    "    return a * b\n",
    "print(\"Multiplication:\", multiply(12, 7))\n",
    "\n",
    "# Division\n",
    "def divide(a, b):\n",
    "    return a / b if b != 0 else \"Cannot divide by zero\"\n",
    "print(\"Division:\", divide(13, 8))\n",
    "\n",
    "# Remainder\n",
    "def remainder(a, b):\n",
    "    return a % b\n",
    "print(\"Remainder:\", remainder(14, 9))\n",
    "\n",
    "# Power\n",
    "def power(a, b):\n",
    "    return a ** b\n",
    "print(\"Power:\", power(5, 3))"
   ]
  },
  {
   "cell_type": "markdown",
   "metadata": {},
   "source": [
    "## Exercise 2: Python Data Types  \n",
    "Tasks given:  \n",
    "-Create a list of 5 different fruits and print the list  \n",
    "-Create a tuple of 3 different animals and print the tuple  \n",
    "-Create a dictionary of 3 different key-value pairs where the keys are names of\n",
    "programming languages and the values are their release dates  \n",
    "-Create a set of 3 different colours and print the set  \n",
    "-Create a string variable that contains the sentence \"Python is an easy-to-learn\n",
    "programming language\"  "
   ]
  },
  {
   "cell_type": "code",
   "execution_count": 4,
   "metadata": {},
   "outputs": [
    {
     "name": "stdout",
     "output_type": "stream",
     "text": [
      "Fruits List: ['Apple', 'Banana', 'Cherry', 'Mango', 'Grapes']\n",
      "Animals Tuple: ('Dog', 'Cat', 'Elephant')\n",
      "Programming Languages Dictionary: {'Python': 1991, 'Java': 1995, 'C++': 1985}\n",
      "Colors Set: {'Red', 'Blue', 'Yellow'}\n",
      "Sentence: Python is an easy-to-learn programming language.\n"
     ]
    }
   ],
   "source": [
    "# Exercise 2: Python Data Types\n",
    "fruits = [\"Apple\", \"Banana\", \"Cherry\", \"Mango\", \"Grapes\"]\n",
    "print(\"Fruits List:\", fruits)\n",
    "\n",
    "animals = (\"Dog\", \"Cat\", \"Elephant\")\n",
    "print(\"Animals Tuple:\", animals)\n",
    "\n",
    "languages = {\"Python\": 1991, \"Java\": 1995, \"C++\": 1985}\n",
    "print(\"Programming Languages Dictionary:\", languages)\n",
    "\n",
    "colors = {\"Yellow\", \"Red\", \"Blue\"}\n",
    "print(\"Colors Set:\", colors)\n",
    "\n",
    "sentence = \"Python is an easy-to-learn programming language.\"\n",
    "print(\"Sentence:\", sentence)"
   ]
  },
  {
   "cell_type": "markdown",
   "metadata": {},
   "source": [
    "## Exercise 3: Conditions  \n",
    "Tasks given :  \n",
    "-Write a script that takes a user input of a number and checks if it is positive, negative or\n",
    "zero. Print the results  \n",
    "-Write a script that takes a user input of a string and checks if it starts with a vowel or\n",
    "consonant. Print the results  \n",
    "-Write a script that takes a user input of two numbers and checks if they are equal or not.\n",
    "Print the results  "
   ]
  },
  {
   "cell_type": "code",
   "execution_count": 5,
   "metadata": {},
   "outputs": [
    {
     "name": "stdout",
     "output_type": "stream",
     "text": [
      "Positive number\n",
      "Starts with a vowel\n",
      "Numbers are not equal\n"
     ]
    }
   ],
   "source": [
    "# Exercise 3: Conditions\n",
    "\n",
    "number = int(input(\"Enter a number: \"))\n",
    "if number > 0:\n",
    "    print(\"Positive number\")\n",
    "elif number < 0:\n",
    "    print(\"Negative number\")\n",
    "else:\n",
    "    print(\"Zero\")\n",
    "\n",
    "string = input(\"Enter a string: \").lower()\n",
    "if string[0] in \"aeiou\":\n",
    "    print(\"Starts with a vowel\")\n",
    "else:\n",
    "    print(\"Starts with a consonant\")\n",
    "\n",
    "num1 = int(input(\"Enter first number: \"))\n",
    "num2 = int(input(\"Enter second number: \"))\n",
    "if num1 == num2:\n",
    "    print(\"Numbers are equal\")\n",
    "else:\n",
    "    print(\"Numbers are not equal\")"
   ]
  },
  {
   "cell_type": "markdown",
   "metadata": {},
   "source": [
    "## Exercise 4: Loops  \n",
    "Tasks given:  \n",
    "-Write a script that prints the numbers from 1 to 10 using a for loop  \n",
    "-Write a script that prints the even numbers from 2 to 10 using a for loop  \n",
    "-Write a script that prints the first 5 numbers of the Fibonacci sequence using a while\n",
    "loop  "
   ]
  },
  {
   "cell_type": "code",
   "execution_count": 6,
   "metadata": {},
   "outputs": [
    {
     "name": "stdout",
     "output_type": "stream",
     "text": [
      "1\n",
      "2\n",
      "3\n",
      "4\n",
      "5\n",
      "6\n",
      "7\n",
      "8\n",
      "9\n",
      "10\n",
      "2\n",
      "4\n",
      "6\n",
      "8\n",
      "10\n",
      "First 5 Fibonacci numbers: [0, 1, 1, 2, 3]\n"
     ]
    }
   ],
   "source": [
    "# Exercise 4: Loops\n",
    "for i in range(1, 11):\n",
    "    print(i)\n",
    "\n",
    "for i in range(2, 11, 2):\n",
    "    print(i)\n",
    "\n",
    "# Fibonacci sequence\n",
    "fib = [0, 1]\n",
    "while len(fib) < 5:\n",
    "    fib.append(fib[-1] + fib[-2])\n",
    "print(\"First 5 Fibonacci numbers:\", fib)"
   ]
  },
  {
   "cell_type": "markdown",
   "metadata": {},
   "source": [
    "## Exercise 5: Functions  \n",
    "Tasks given:  \n",
    "-Write a function that takes two numbers as parameters and returns their sum  \n",
    "-Write a function that takes a list of numbers as a parameter and returns the largest\n",
    "number in the list  \n",
    "-Write a function that takes a string as a parameter and returns the number of vowels\n",
    "in the string  "
   ]
  },
  {
   "cell_type": "code",
   "execution_count": 7,
   "metadata": {},
   "outputs": [],
   "source": [
    "# Exercise 5: Functions\n",
    "def sum_numbers(a, b):\n",
    "    return a + b\n",
    "\n",
    "def max_in_list(lst):\n",
    "    return max(lst)\n",
    "\n",
    "def count_vowels(string):\n",
    "    return sum(1 for char in string.lower() if char in \"aeiou\")\n"
   ]
  },
  {
   "cell_type": "markdown",
   "metadata": {},
   "source": [
    "## Exercise 6: Password Strength Checker  \n",
    "Task given :  \n",
    "Write a Python script that checks the strength of\n",
    "a password based on the following criteria:  \n",
    "-The password must contain at least 8 characters  \n",
    "-The password must contain at least one uppercase letter  \n",
    "-The password must contain at least one lowercase letter  \n",
    "-The password must contain at least one special character (@, #, $,%, etc.)  \n",
    "\n",
    "If the password meets all the above criteria, print \"Password is strong\"  \n",
    "If the password fails to meet any of the above criteria, print a message indicating which\n",
    "criteria the password failed to meet  "
   ]
  },
  {
   "cell_type": "code",
   "execution_count": 10,
   "metadata": {},
   "outputs": [],
   "source": [
    "# Exercise 6: Password Strength Checker\n",
    "\n",
    "def check_password_strength(password):\n",
    "    import re\n",
    "    errors = []\n",
    "    if len(password) < 8:\n",
    "        errors.append(\"At least 8 characters\")\n",
    "    if not any(char.isupper() for char in password):\n",
    "        errors.append(\"One uppercase letter required\")\n",
    "    if not any(char.islower() for char in password):\n",
    "        errors.append(\"One lowercase letter required\")\n",
    "    if not re.search(r\"[!@#$%^&*()_+{}|:<>?]\", password):\n",
    "        errors.append(\"One special character required\")\n",
    "    return \"Password is strong\" if not errors else \"Password must contain: \" + \", \".join(errors)"
   ]
  },
  {
   "cell_type": "markdown",
   "metadata": {},
   "source": [
    "## Exercise 7: Caesar Cipher  \n",
    "Tasks given:  \n",
    "-Create a script that encrypts and decrypts messages using the\n",
    "Caesar cipher   \n",
    "-The Caesar cipher is a simple encryption technique that involves shifting each letter\n",
    "of the message by a certain number of positions down the alphabet. For example, if\n",
    "we shift the letter \"A\" by 3 positions, we get the letter \"D\". Similarly, if we shift the\n",
    "letter \"B\" by 2 positions, we get the letter \"D\"  \n",
    "-Write a Python script that takes a message and a key as inputs and\n",
    "encrypts/decrypts the message using the Caesar cipher. The key is the number of\n",
    "positions each letter should be shifted down the alphabet  "
   ]
  },
  {
   "cell_type": "code",
   "execution_count": 11,
   "metadata": {},
   "outputs": [],
   "source": [
    "# Exercise 7: Caesar Cipher\n",
    "def caesar_cipher(text, key, mode):\n",
    "    result = \"\"\n",
    "    for char in text:\n",
    "        if char.isalpha():\n",
    "            shift = key if mode == \"encrypt\" else -key\n",
    "            new_char = chr((ord(char.upper()) - ord('A') + shift) % 26 + ord('A'))\n",
    "            result += new_char\n",
    "        else:\n",
    "            result += char\n",
    "    return result\n"
   ]
  },
  {
   "cell_type": "markdown",
   "metadata": {},
   "source": [
    "## Exercise 8: Hangman Game\n",
    "Task given:  \n",
    "-Write a Python script that plays the game of Hangman  \n",
    "-The script should randomly select a word from a list of words, and the user should have to guess the letters in\n",
    "the word one by one    \n",
    "-The user is allowed a certain number of incorrect guesses before the game is over"
   ]
  },
  {
   "cell_type": "code",
   "execution_count": 1,
   "metadata": {},
   "outputs": [
    {
     "name": "stdout",
     "output_type": "stream",
     "text": [
      "_ _ _ _ _ _\n",
      "p _ _ _ _ _\n",
      "p _ t _ _ _\n",
      "Incorrect guess. Attempts left: 5\n",
      "p _ t _ _ _\n",
      "p _ t _ o _\n",
      "p y t _ o _\n",
      "p y t _ o n\n",
      "Congratulations! You guessed the word: python\n"
     ]
    }
   ],
   "source": [
    "# Exercise 8: Hangman Game\n",
    "import random\n",
    "def hangman():\n",
    "    words = [\"python\", \"java\", \"javascript\"]\n",
    "    word = random.choice(words)\n",
    "    guessed = [\"_\" for _ in word]\n",
    "    attempts = 6\n",
    "    \n",
    "    while attempts > 0 and \"_\" in guessed:\n",
    "        print(\" \".join(guessed))\n",
    "        guess = input(\"Guess a letter: \")\n",
    "        \n",
    "        if guess in word:\n",
    "            for idx, letter in enumerate(word):\n",
    "                if letter == guess:\n",
    "                    guessed[idx] = guess\n",
    "        else:\n",
    "            attempts -= 1\n",
    "            print(\"Incorrect guess. Attempts left:\", attempts)\n",
    "    \n",
    "    if \"_\" not in guessed:\n",
    "        print(\"Congratulations! You guessed the word:\", word)\n",
    "    else:\n",
    "        print(\"Game Over. The word was:\", word)\n",
    "\n",
    "hangman()"
   ]
  }
 ],
 "metadata": {
  "kernelspec": {
   "display_name": "Python 3",
   "language": "python",
   "name": "python3"
  },
  "language_info": {
   "codemirror_mode": {
    "name": "ipython",
    "version": 3
   },
   "file_extension": ".py",
   "mimetype": "text/x-python",
   "name": "python",
   "nbconvert_exporter": "python",
   "pygments_lexer": "ipython3",
   "version": "3.9.6"
  }
 },
 "nbformat": 4,
 "nbformat_minor": 2
}
