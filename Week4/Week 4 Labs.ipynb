{
 "cells": [
  {
   "cell_type": "markdown",
   "metadata": {},
   "source": [
    "# Week 4 Lab exercises  \n",
    "## Achievables in the session:  \n",
    "- Setting up UDP client-server communication using the `socket` library.  \n",
    "- Transmitting and receiving data over UDP.  \n",
    "- Fetching data from APIs using the `requests` library and transmitting it via UDP.  \n",
    "- Handling communication errors and implementing simple retransmission logic.  \n",
    "  \n",
    "The **Transport Layer** of the **TCP/IP model** its a layer which manages end-to-end communication between devices. It also  provides  important functions such as:  \n",
    "- **Segmentation**: Breaking data into smaller packets for easier/ quicker data transmission.\n",
    "- **Error Control**:  It ensuring data integrity during transfer.\n",
    "- **Flow Control**:  It manages data flow between the sender and the receiver.\n",
    "- **Connection Management**:  It establishes and maintaines reliable communication.\n",
    "\n",
    "There are two main transport protocols:  \n",
    "| Protocol | Type | Characteristics |\n",
    "|----------|------|----------------|\n",
    "| **TCP** (Transmission Control Protocol) | Connection-Oriented | Reliable, ensures ordered and error-free delivery. Its usually used for applications like web browsing and emails. |\n",
    "| **UDP** (User Datagram Protocol) | Connectionless | Faster but less reliable. It has no error checking, and it's often used for streaming, gaming, and VoIP. |\n"
   ]
  },
  {
   "cell_type": "code",
   "execution_count": 6,
   "metadata": {},
   "outputs": [
    {
     "name": "stdout",
     "output_type": "stream",
     "text": [
      "UDP Server is ready to receive messages...\n"
     ]
    },
    {
     "ename": "KeyboardInterrupt",
     "evalue": "",
     "output_type": "error",
     "traceback": [
      "\u001b[0;31m---------------------------------------------------------------------------\u001b[0m",
      "\u001b[0;31mKeyboardInterrupt\u001b[0m                         Traceback (most recent call last)",
      "Cell \u001b[0;32mIn[6], line 12\u001b[0m\n\u001b[1;32m      9\u001b[0m \u001b[38;5;28mprint\u001b[39m(\u001b[38;5;124m\"\u001b[39m\u001b[38;5;124mUDP Server is ready to receive messages...\u001b[39m\u001b[38;5;124m\"\u001b[39m)\n\u001b[1;32m     11\u001b[0m \u001b[38;5;28;01mwhile\u001b[39;00m \u001b[38;5;28;01mTrue\u001b[39;00m:\n\u001b[0;32m---> 12\u001b[0m     data, client_address \u001b[38;5;241m=\u001b[39m \u001b[43mserver_socket\u001b[49m\u001b[38;5;241;43m.\u001b[39;49m\u001b[43mrecvfrom\u001b[49m\u001b[43m(\u001b[49m\u001b[38;5;241;43m2048\u001b[39;49m\u001b[43m)\u001b[49m\n\u001b[1;32m     13\u001b[0m     \u001b[38;5;28mprint\u001b[39m(\u001b[38;5;124mf\u001b[39m\u001b[38;5;124m\"\u001b[39m\u001b[38;5;124mReceived from \u001b[39m\u001b[38;5;132;01m{\u001b[39;00mclient_address\u001b[38;5;132;01m}\u001b[39;00m\u001b[38;5;124m: \u001b[39m\u001b[38;5;132;01m{\u001b[39;00mdata\u001b[38;5;241m.\u001b[39mdecode()\u001b[38;5;132;01m}\u001b[39;00m\u001b[38;5;124m\"\u001b[39m)\n\u001b[1;32m     15\u001b[0m \u001b[38;5;66;03m# Explanation:\u001b[39;00m\n\u001b[1;32m     16\u001b[0m \u001b[38;5;66;03m# socket.AF_INET: Uses and it specifies the use of  IPv4 addressing.\u001b[39;00m\n\u001b[1;32m     17\u001b[0m \u001b[38;5;66;03m# socket.SOCK_DGRAM: Specifies the use of the  UDP socket.\u001b[39;00m\n\u001b[1;32m     18\u001b[0m \u001b[38;5;66;03m# recvfrom(2048): It waits for an incoming packet and it returns: 1)Received data up to 2048 bytes, 2)The address of the sender IP and port.\u001b[39;00m\n",
      "\u001b[0;31mKeyboardInterrupt\u001b[0m: "
     ]
    }
   ],
   "source": [
    "# Task 1: Bulding a simple UDP server\n",
    "# Objective: Create a simple Python script that acts as an UDP server to receive client messages\n",
    "\n",
    "import socket\n",
    "\n",
    "server_socket = socket.socket(socket.AF_INET, socket.SOCK_DGRAM)\n",
    "server_socket.bind(('localhost', 65433))\n",
    "\n",
    "print(\"UDP Server is ready to receive messages...\")\n",
    "\n",
    "while True:\n",
    "    data, client_address = server_socket.recvfrom(2048)\n",
    "    print(f\"Received from {client_address}: {data.decode()}\")\n",
    "\n",
    "# Explanation:\n",
    "# socket.AF_INET: Uses and it specifies the use of  IPv4 addressing.\n",
    "# socket.SOCK_DGRAM: Specifies the use of the  UDP socket.\n",
    "# recvfrom(2048): It waits for an incoming packet and it returns: 1)Received data up to 2048 bytes, 2)The address of the sender IP and port.\n"
   ]
  },
  {
   "cell_type": "code",
   "execution_count": 3,
   "metadata": {},
   "outputs": [],
   "source": [
    "# Task 2: Bulding a simple UDP client \n",
    "# Objective: Create a simple Python script that acts as an UDP client sending messeges \n",
    "\n",
    "import socket\n",
    "\n",
    "client_socket = socket.socket(socket.AF_INET, socket.SOCK_DGRAM)\n",
    "server_address = ('localhost', 65433)\n",
    "\n",
    "message = b\"Hello, UDP Server!\"\n",
    "client_socket.sendto(message, server_address)\n",
    "\n",
    "client_socket.close()\n",
    "\n",
    "\n",
    "#How It Works:\n",
    "# The client creates a UDP socket.\n",
    "# It then will send a message to the server’s address.\n",
    "# The socket will then close after sending"
   ]
  },
  {
   "cell_type": "code",
   "execution_count": 8,
   "metadata": {},
   "outputs": [
    {
     "name": "stdout",
     "output_type": "stream",
     "text": [
      "UDP Server with Authentication Running...\n"
     ]
    },
    {
     "ename": "KeyboardInterrupt",
     "evalue": "",
     "output_type": "error",
     "traceback": [
      "\u001b[0;31m---------------------------------------------------------------------------\u001b[0m",
      "\u001b[0;31mKeyboardInterrupt\u001b[0m                         Traceback (most recent call last)",
      "Cell \u001b[0;32mIn[8], line 14\u001b[0m\n\u001b[1;32m     11\u001b[0m valid_users \u001b[38;5;241m=\u001b[39m {\u001b[38;5;124m\"\u001b[39m\u001b[38;5;124muser1\u001b[39m\u001b[38;5;124m\"\u001b[39m: \u001b[38;5;124m\"\u001b[39m\u001b[38;5;124mpassword123\u001b[39m\u001b[38;5;124m\"\u001b[39m, \u001b[38;5;124m\"\u001b[39m\u001b[38;5;124madmin\u001b[39m\u001b[38;5;124m\"\u001b[39m: \u001b[38;5;124m\"\u001b[39m\u001b[38;5;124madminpass\u001b[39m\u001b[38;5;124m\"\u001b[39m}\n\u001b[1;32m     13\u001b[0m \u001b[38;5;28;01mwhile\u001b[39;00m \u001b[38;5;28;01mTrue\u001b[39;00m:\n\u001b[0;32m---> 14\u001b[0m     data, client_address \u001b[38;5;241m=\u001b[39m \u001b[43mserver_socket\u001b[49m\u001b[38;5;241;43m.\u001b[39;49m\u001b[43mrecvfrom\u001b[49m\u001b[43m(\u001b[49m\u001b[38;5;241;43m2048\u001b[39;49m\u001b[43m)\u001b[49m\n\u001b[1;32m     15\u001b[0m     username, password, message \u001b[38;5;241m=\u001b[39m data\u001b[38;5;241m.\u001b[39mdecode()\u001b[38;5;241m.\u001b[39msplit(\u001b[38;5;124m'\u001b[39m\u001b[38;5;124m|\u001b[39m\u001b[38;5;124m'\u001b[39m)\n\u001b[1;32m     17\u001b[0m     \u001b[38;5;28;01mif\u001b[39;00m valid_users\u001b[38;5;241m.\u001b[39mget(username) \u001b[38;5;241m==\u001b[39m password:\n",
      "\u001b[0;31mKeyboardInterrupt\u001b[0m: "
     ]
    }
   ],
   "source": [
    "# Adding Authentication\n",
    "# We can  enhance the UDP chat by requiring a username and password before  any communication can happen . This is how its being done:\n",
    "\n",
    "import socket\n",
    "\n",
    "server_socket = socket.socket(socket.AF_INET, socket.SOCK_DGRAM)\n",
    "server_socket.bind(('localhost', 65433))\n",
    "\n",
    "print(\"UDP Server with Authentication Running...\")\n",
    "\n",
    "valid_users = {\"user1\": \"password123\", \"admin\": \"adminpass\"}\n",
    "\n",
    "while True:\n",
    "    data, client_address = server_socket.recvfrom(2048)\n",
    "    username, password, message = data.decode().split('|')\n",
    "    \n",
    "    if valid_users.get(username) == password:\n",
    "        print(f\"Authenticated {username}: {message}\")\n",
    "    else:\n",
    "        print(f\"Authentication failed for {username}\")\n"
   ]
  },
  {
   "cell_type": "code",
   "execution_count": null,
   "metadata": {},
   "outputs": [],
   "source": [
    "# Encrypting Messages\n",
    "# In order to achieve secure communication, we have the option to  encrypt messages before sending them over UDP.\n",
    "\n",
    "from cryptography.fernet import Fernet\n",
    "import socket\n",
    "\n",
    "# Generate encryption key \n",
    "key = Fernet.generate_key()\n",
    "cipher = Fernet(key)\n",
    "\n",
    "# Create UDP socket\n",
    "server_socket = socket.socket(socket.AF_INET, socket.SOCK_DGRAM)\n",
    "server_socket.bind(('localhost', 65433))\n",
    "\n",
    "print(\"UDP Server with Encryption Running...\")\n",
    "\n",
    "while True:\n",
    "    data, client_address = server_socket.recvfrom(2048)\n",
    "    decrypted_message = cipher.decrypt(data).decode()\n",
    "    print(f\"Received encrypted message: {decrypted_message}\")\n",
    "\n"
   ]
  },
  {
   "cell_type": "code",
   "execution_count": 7,
   "metadata": {},
   "outputs": [
    {
     "name": "stdout",
     "output_type": "stream",
     "text": [
      "Weather data sent!\n"
     ]
    }
   ],
   "source": [
    "# Task 3: Building a Simple API data collection Application\n",
    "# Objective: Create an application that would collect weather information from API and send it to the server\n",
    "\n",
    "import socket\n",
    "import requests\n",
    "\n",
    "# Fetch weather data\n",
    "api_url = \"https://api.open-meteo.com/v1/forecast?latitude=51.47&longitude=-0.0363&current_weather=true\"\n",
    "response = requests.get(api_url)\n",
    "\n",
    "if response.status_code == 200:\n",
    "    weather_data = response.json()\n",
    "    temperature = weather_data[\"current_weather\"][\"temperature\"]\n",
    "    message = f\"Current temperature: {temperature}°C\"\n",
    "else:\n",
    "    message = \"Failed to fetch weather data\"\n",
    "\n",
    "# Send via UDP\n",
    "client_socket = socket.socket(socket.AF_INET, socket.SOCK_DGRAM)\n",
    "server_address = ('localhost', 65433)\n",
    "client_socket.sendto(message.encode(), server_address)\n",
    "\n",
    "print(\"Weather data sent!\")\n",
    "client_socket.close()"
   ]
  }
 ],
 "metadata": {
  "kernelspec": {
   "display_name": "base",
   "language": "python",
   "name": "base"
  },
  "language_info": {
   "codemirror_mode": {
    "name": "ipython",
    "version": 3
   },
   "file_extension": ".py",
   "mimetype": "text/x-python",
   "name": "python",
   "nbconvert_exporter": "python",
   "pygments_lexer": "ipython3",
   "version": "3.12.4"
  }
 },
 "nbformat": 4,
 "nbformat_minor": 2
}
